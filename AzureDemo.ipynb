{
 "cells": [
  {
   "cell_type": "code",
   "execution_count": 2,
   "metadata": {},
   "outputs": [],
   "source": [
    "import json\n",
    "import http.client, urllib.request, urllib.parse, urllib.error, base64"
   ]
  },
  {
   "cell_type": "code",
   "execution_count": 3,
   "metadata": {},
   "outputs": [],
   "source": [
    "with open('./../cloudkeys/subscriptionkey.json') as f:\n",
    "    key = json.load(f)"
   ]
  },
  {
   "cell_type": "code",
   "execution_count": 68,
   "metadata": {},
   "outputs": [],
   "source": [
    "def get_sentiment(text,subscription_key):\n",
    "    headers = {\n",
    "        # Request headers\n",
    "        'Content-Type': 'application/json',\n",
    "        'Ocp-Apim-Subscription-Key': subscription_key,\n",
    "    }\n",
    "\n",
    "    params = urllib.parse.urlencode({\n",
    "    })\n",
    "\n",
    "    try:\n",
    "        conn = http.client.HTTPSConnection('canadacentral.api.cognitive.microsoft.com')\n",
    "        conn.request(\"POST\", \"/text/analytics/v2.0/sentiment?%s\" % params, text, headers)\n",
    "        response = conn.getresponse()\n",
    "        data = response.read()\n",
    "        conn.close()\n",
    "    except Exception as e:\n",
    "        print(\"[Errno {0}] {1}\".format(e.errno, e.strerror))\n",
    "        \n",
    "    return data"
   ]
  },
  {
   "cell_type": "code",
   "execution_count": 69,
   "metadata": {},
   "outputs": [],
   "source": [
    "def text2jsoninput(text):\n",
    "    return '''{\n",
    "                  \"documents\": [\n",
    "                    {\n",
    "                      \"language\": \"en\",\n",
    "                      \"id\": \"1\",\n",
    "                      \"text\": \"''' + text + '''\"\n",
    "                    }\n",
    "                  ]\n",
    "                }'''"
   ]
  },
  {
   "cell_type": "code",
   "execution_count": 72,
   "metadata": {},
   "outputs": [],
   "source": [
    "with open('./texts/introduction.txt', 'r') as file:\n",
    "    text = file.read().replace('\\n', '')"
   ]
  },
  {
   "cell_type": "code",
   "execution_count": 73,
   "metadata": {},
   "outputs": [
    {
     "data": {
      "text/plain": [
       "b'{\"documents\":[{\"id\":\"1\",\"score\":0.5}],\"errors\":[]}'"
      ]
     },
     "execution_count": 73,
     "metadata": {},
     "output_type": "execute_result"
    }
   ],
   "source": [
    "get_sentiment(text2jsoninput(text),key['subscription_key'])"
   ]
  }
 ],
 "metadata": {
  "kernelspec": {
   "display_name": "Python 3",
   "language": "python",
   "name": "python3"
  },
  "language_info": {
   "codemirror_mode": {
    "name": "ipython",
    "version": 3
   },
   "file_extension": ".py",
   "mimetype": "text/x-python",
   "name": "python",
   "nbconvert_exporter": "python",
   "pygments_lexer": "ipython3",
   "version": "3.7.1"
  }
 },
 "nbformat": 4,
 "nbformat_minor": 2
}
